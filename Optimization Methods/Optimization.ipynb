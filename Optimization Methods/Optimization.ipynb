{
  "nbformat": 4,
  "nbformat_minor": 0,
  "metadata": {
    "colab": {
      "name": "Optimization.ipynb",
      "provenance": [],
      "collapsed_sections": [
        "8abBC581ea9O",
        "yYMG_1-uef9z",
        "kqW-GZ3CeuSl"
      ],
      "toc_visible": true
    },
    "kernelspec": {
      "name": "python3",
      "display_name": "Python 3"
    }
  },
  "cells": [
    {
      "cell_type": "markdown",
      "metadata": {
        "id": "8abBC581ea9O",
        "colab_type": "text"
      },
      "source": [
        "#Optimization"
      ]
    },
    {
      "cell_type": "markdown",
      "metadata": {
        "id": "Na_Map7neda5",
        "colab_type": "text"
      },
      "source": [
        "To find the best parameters in random forest classifier was used the methods PSO(particle swarm optimization) and GA(Genetic algorithm)."
      ]
    },
    {
      "cell_type": "markdown",
      "metadata": {
        "id": "yYMG_1-uef9z",
        "colab_type": "text"
      },
      "source": [
        "# Metodologia \n"
      ]
    },
    {
      "cell_type": "markdown",
      "metadata": {
        "id": "nQX2EG4_eiep",
        "colab_type": "text"
      },
      "source": [
        "*   Data load.\n",
        "*   Apply PSO method\n",
        "*   Apply GA method\n"
      ]
    },
    {
      "cell_type": "markdown",
      "metadata": {
        "id": "IhA4Y7oyekky",
        "colab_type": "text"
      },
      "source": [
        "# Resultados "
      ]
    },
    {
      "cell_type": "code",
      "metadata": {
        "id": "sSbkMGDKUKWb",
        "colab_type": "code",
        "colab": {
          "base_uri": "https://localhost:8080/",
          "height": 105
        },
        "outputId": "1c4e4afc-4823-42e0-b61d-158b14b63b89"
      },
      "source": [
        "import warnings\n",
        "import numpy as np\n",
        "import matplotlib.pyplot as plt\n",
        "from matplotlib.colors import ListedColormap\n",
        "from sklearn.model_selection import train_test_split\n",
        "from sklearn.preprocessing import StandardScaler\n",
        "from sklearn.datasets import make_moons, make_circles, make_classification\n",
        "from sklearn.neural_network import MLPClassifier\n",
        "from sklearn.neighbors import KNeighborsClassifier\n",
        "from sklearn.svm import SVC\n",
        "from sklearn.gaussian_process import GaussianProcessClassifier\n",
        "from sklearn.gaussian_process.kernels import RBF\n",
        "from sklearn.tree import DecisionTreeClassifier\n",
        "from sklearn.ensemble import RandomForestClassifier, AdaBoostClassifier\n",
        "from sklearn.naive_bayes import GaussianNB\n",
        "from sklearn.discriminant_analysis import QuadraticDiscriminantAnalysis\n",
        "from sklearn.model_selection import LeaveOneOut\n",
        "from sklearn.linear_model import LinearRegression\n",
        "from sklearn import metrics \n",
        "from imblearn.under_sampling import NearMiss\n",
        "from imblearn.over_sampling import SMOTE, ADASYN\n",
        "from imblearn.under_sampling import TomekLinks\n",
        "from sklearn.metrics import precision_recall_curve\n",
        "from sklearn.metrics import average_precision_score\n",
        "warnings.filterwarnings('ignore')\n",
        "\n",
        "def analise2(dtx,dty,dp,ne):\n",
        "  X, y = (dtx,dty)\n",
        "  loo = LeaveOneOut()\n",
        "  \n",
        "  h = .02 \n",
        "  names = [ \"Random Forest\"\n",
        "          \n",
        "          ]\n",
        "\n",
        "  classifiers = [      RandomForestClassifier(max_depth=dp, n_estimators=ne, max_features=1)\n",
        "\n",
        "      ]\n",
        "\n",
        "\n",
        "  X = StandardScaler().fit_transform(X)\n",
        "  scoresT = []\n",
        "  confusion_matrixT = []\n",
        "\n",
        "  loo.get_n_splits(X)\n",
        "  i = 1\n",
        "  for name, classifier in zip(names, classifiers):\n",
        "    scores = []\n",
        "    confusion_matrix = None\n",
        "\n",
        "    True_P = []\n",
        "    False_P = []\n",
        "    y_pred_probability = []\n",
        "    y_tested = []\n",
        "    #aplicando Leave one out\n",
        "    for cont, (train_index, test_index) in enumerate(loo.split(X)):\n",
        "      X_train, X_test = X[train_index], X[test_index]\n",
        "      y_train, y_test = y[train_index], y[test_index]\n",
        "      model = classifier.fit(X_train,y_train)\n",
        "      y_predict = model.predict(X_test)\n",
        "      if cont == 0:\n",
        "        confusion_matrix = metrics.confusion_matrix(y_test,y_predict,labels=[0, 1])\n",
        "      else:\n",
        "        confusion_matrix += metrics.confusion_matrix(y_test,y_predict,labels=[0, 1])\n",
        "      scores.append(model.score(X_test, y_test))\n",
        "      y_tested.append(y_test)\n",
        "      if hasattr(model, \"decision_function\"):\n",
        "        y_pred_probability.append(model.decision_function(X_test))\n",
        "      else:\n",
        "        y_pred_probability.append(model.predict_proba(X_test)[:,1])\n",
        "      \n",
        "    y_tested = np.array(y_tested)\n",
        "    y_pred_probability = np.array(y_pred_probability)\n",
        "    confusion_matrixT.append(confusion_matrix)\n",
        "    scores = np.array(scores)\n",
        "    scoresT.append([scores.mean(),scores.std()])\n",
        "    accuracy = (confusion_matrix[0, 0]+confusion_matrix[1, 1])/(confusion_matrix.sum())\n",
        "    fpr, tpr, _ = metrics.roc_curve(y_tested,  y_pred_probability)\n",
        "    auc = metrics.roc_auc_score(y_tested, y_pred_probability)\n",
        "    i += 1\n",
        "    TP = confusion_matrix[0,0]\n",
        "    FP = confusion_matrix[0,1]\n",
        "    FN = confusion_matrix[1,0]\n",
        "    TN = confusion_matrix[1,1]\n",
        "\n",
        "    Acuracia = (TP+TN)/(TP+TN+FP+FN)\n",
        "    Precisao = TP/(TP+FP)\n",
        "    Recall = TP/(TP+FN)\n",
        "    F1 = (2*Precisao*Recall)/(Precisao+Recall)\n",
        "  return(Acuracia*F1)"
      ],
      "execution_count": 1,
      "outputs": [
        {
          "output_type": "stream",
          "text": [
            "/usr/local/lib/python3.6/dist-packages/sklearn/externals/six.py:31: FutureWarning: The module is deprecated in version 0.21 and will be removed in version 0.23 since we've dropped support for Python 2.7. Please rely on the official version of six (https://pypi.org/project/six/).\n",
            "  \"(https://pypi.org/project/six/).\", FutureWarning)\n",
            "/usr/local/lib/python3.6/dist-packages/sklearn/utils/deprecation.py:144: FutureWarning: The sklearn.neighbors.base module is  deprecated in version 0.22 and will be removed in version 0.24. The corresponding classes / functions should instead be imported from sklearn.neighbors. Anything that cannot be imported from sklearn.neighbors is now part of the private API.\n",
            "  warnings.warn(message, FutureWarning)\n"
          ],
          "name": "stderr"
        }
      ]
    },
    {
      "cell_type": "code",
      "metadata": {
        "id": "nJ2Bxwj7NN6f",
        "colab_type": "code",
        "colab": {}
      },
      "source": [
        "def autolabel(rects):\n",
        "    \"\"\"Attach a text label above each bar in *rects*, displaying its height.\"\"\"\n",
        "    for rect in rects:\n",
        "        height = rect.get_height()\n",
        "        ax.annotate('{}'.format(height),\n",
        "                    xy=(rect.get_x() + rect.get_width() / 2, height),\n",
        "                    xytext=(0, 3),  # 3 points vertical offset\n",
        "                    textcoords=\"offset points\",\n",
        "                    ha='center', va='bottom')"
      ],
      "execution_count": 0,
      "outputs": []
    },
    {
      "cell_type": "code",
      "metadata": {
        "id": "zGFB7OG9NPYg",
        "colab_type": "code",
        "colab": {}
      },
      "source": [
        "import numpy as np\n",
        "import matplotlib.pyplot as plt \n",
        "from sklearn import preprocessing\n",
        "\n",
        "F = open('column_2C.data','r')\n",
        "dados=[]\n",
        "value = F.read()\n",
        "amostras = value.split('\\n')\n",
        "amostraN = 1\n",
        "if amostraN == 0:\n",
        "  value = value.replace(\"DH\",\"0\")\n",
        "  value = value.replace(\"SL\",\"1\")\n",
        "  value = value.replace(\"NO\",\"2\")\n",
        "  value = value.replace(\"\\n\",\",\")\n",
        "  value = value.replace(\" \",\",\")\n",
        "  dados = value.split(',')\n",
        "  atributos = [\"incidência pélvica\", \"inclinação pélvica\", \"ângulo da lordose lombar\", \"inclinação sacral\", \"raio pélvico\", \"grau de espondilolistese\"]\n",
        "  classesNames = [\"DH\",\"SL\",\"NO\"]\n",
        "  nClasses = 3\n",
        "if amostraN == 1:\n",
        "  value = value.replace(\"AB\",\"0\")\n",
        "  value = value.replace(\"NO\",\"1\")\n",
        "  value = value.replace(\"\\n\",\",\")\n",
        "  value = value.replace(\" \",\",\")\n",
        "  dados = value.split(',')\n",
        "  atributos = [\"incidência pélvica\", \"inclinação pélvica\", \"ângulo da lordose lombar\", \"inclinação sacral\", \"raio pélvico\", \"grau de espondilolistese\"]\n",
        "  classesNames = [\"AB\",\"NO\"]\n",
        "  nClasses = 2\n",
        "if amostraN == 2:\n",
        "  value = value.replace(\"\\n\",\",\")\n",
        "  value = value.replace(\" \",\",\")\n",
        "  dados = value.split(',')\n",
        "  atributos = [\"Álcool\", \"Ácido málico\", \"Cinza\", \"Alcalinidade das cinzas\", \"Magnésio\", \"Fenóis totais\", \"Flavonóides\", \"Fenóis inflavonóides\", \"Proantocianidinas\", \"Intensidade de cor\", \"Matiz\", \"OD280 / OD315 de vinhos diluídos\", \"Proline\" ]\n",
        "  classesNames = [\"AB\",\"NO\"]\n",
        "  nClasses = 3\n",
        "if amostraN == 3:\n",
        "  value = value.replace(\"M\",\"1\")\n",
        "  value = value.replace(\"F\",\"2\")\n",
        "  value = value.replace(\"I\",\"3\")\n",
        "  value = value.replace(\"\\n\",\",\")\n",
        "  value = value.replace(\" \",\",\")\n",
        "  dados = value.split(',')\n",
        "  atributos = [\"Comprimento\",\"Diâmetro\",\"altura\",\"Peso inteiro\",\"Peso com casca\",\"Peso das vísceras\",\"Peso da casca\",\"Anéis\"]\n",
        "  classesNames = [\"M\",\"F\",\"I\"]\n",
        "  nClasses = 3\n",
        "\n",
        "if '' in dados:\n",
        "  dados.remove('')\n",
        "  \n",
        "if '' in amostras:\n",
        "  amostras.remove('')\n",
        "\n",
        "nAmostras = len(amostras)\n",
        "nAtributos = int(len(dados)/len(amostras))\n",
        "matrizDados = np.zeros((nAmostras,nAtributos))\n",
        "classes = []\n",
        "media = []\n",
        "desvio = []\n",
        "indX = indY = 0\n",
        "\n",
        "for i in range(nAmostras):\n",
        "  indX=0\n",
        "  for y in range(nAtributos):\n",
        "    \n",
        "    matrizDados[indY,indX] = dados[(i*nAtributos+y)]\n",
        "    indX+=1\n",
        "   \n",
        "  indY+=1\n",
        "\n",
        "if amostraN == 2 or amostraN == 3:\n",
        "  matrizDadosCP = matrizDados.copy()\n",
        "  matrizDados[:,0:nAtributos-1] = matrizDadosCP[:,1:nAtributos]\n",
        "  matrizDados[:,nAtributos-1] = matrizDadosCP[:,0]\n",
        "  matrizDados[:,nAtributos-1] -= 1"
      ],
      "execution_count": 0,
      "outputs": []
    },
    {
      "cell_type": "code",
      "metadata": {
        "id": "9qyNaou5NSDv",
        "colab_type": "code",
        "colab": {}
      },
      "source": [
        "Xdata = np.array([matrizDados[:,5], matrizDados[:,4]])\n",
        "dts = [matrizDados[:,:6], matrizDados[:,6]] #Wine\n",
        "X, y = dts"
      ],
      "execution_count": 0,
      "outputs": []
    },
    {
      "cell_type": "code",
      "metadata": {
        "id": "LNLY_DT0NUBO",
        "colab_type": "code",
        "outputId": "6a636db6-a2aa-4177-f9b0-9c301bb0084d",
        "colab": {
          "base_uri": "https://localhost:8080/",
          "height": 299
        }
      },
      "source": [
        "from imblearn.under_sampling import NearMiss\n",
        "class0 = dts[0][dts[1]==0]\n",
        "class1 = dts[0][dts[1]==1]\n",
        "\n",
        "target_count = [len(class0),len(class1)]\n",
        "print('Class 0:', target_count[0])\n",
        "print('Class 1:', target_count[1])\n",
        "plott = plt.bar([0,1], target_count)\n",
        "plt.xticks([0,1], ('Classe 0', 'Classe 1'))\n",
        "plt.show()\n",
        "\n"
      ],
      "execution_count": 5,
      "outputs": [
        {
          "output_type": "stream",
          "text": [
            "Class 0: 210\n",
            "Class 1: 100\n"
          ],
          "name": "stdout"
        },
        {
          "output_type": "display_data",
          "data": {
            "image/png": "[encoded data removed]",
            "text/plain": [
              "<Figure size 432x288 with 1 Axes>"
            ]
          },
          "metadata": {
            "tags": []
          }
        }
      ]
    },
    {
      "cell_type": "code",
      "metadata": {
        "id": "kQBkzbwbMukc",
        "colab_type": "code",
        "colab": {}
      },
      "source": [
        "import math\n",
        "def arredonda(num):\n",
        "  if (num-math.trunc(num)) >=0.5:\n",
        "    return(math.trunc(num)+1)\n",
        "  else:\n",
        "    return(math.trunc(num))\n"
      ],
      "execution_count": 0,
      "outputs": []
    },
    {
      "cell_type": "code",
      "metadata": {
        "id": "QI0zICMY-XdQ",
        "colab_type": "code",
        "outputId": "e39f122f-f468-4f8d-f689-01ccbe0f1cb8",
        "colab": {
          "base_uri": "https://localhost:8080/",
          "height": 1000
        }
      },
      "source": [
        "import random\n",
        "import math\n",
        "import numpy as np \n",
        "import time\n",
        "\n",
        "posicoes=[]\n",
        "\n",
        "inicio = time.time()\n",
        "def fitness_function(position):\n",
        "  total=0\n",
        "  x1 = arredonda(position[0])\n",
        "  x2 = arredonda(position[1])\n",
        "  total = (1/analise2(X,y,x1,x2))\n",
        "    #print(x,\" - \",total)\n",
        "  return total\n",
        "\n",
        "#Some variables to calculate the velocity\n",
        "W = 0.5\n",
        "c1 = 1\n",
        "c2 = 1\n",
        "target = 1\n",
        "\n",
        "n_iterations = int(input(\"Inform the number of iterations: \"))\n",
        "target_error = float(input(\"Inform the target error: \"))\n",
        "n_particles = int(input(\"Inform the number of particles: \"))\n",
        "\n",
        "particle_position_vector = np.array([np.array([(random.random()*10)+1, (random.random()*10)+1]) for _ in range(n_particles)])\n",
        "print(particle_position_vector)\n",
        "pbest_position = particle_position_vector\n",
        "pbest_fitness_value = np.array([float('inf') for _ in range(n_particles)])\n",
        "gbest_fitness_value = float('inf')\n",
        "gbest_position = np.array([float('inf'), float('inf')])\n",
        "\n",
        "velocity_vector = ([np.array([0, 0]) for _ in range(n_particles)])\n",
        "iteration = 0\n",
        "while iteration < n_iterations:\n",
        "    for i in range(n_particles):\n",
        "        fitness_cadidate = fitness_function(particle_position_vector[i])\n",
        "        print(fitness_cadidate, ' ', particle_position_vector[i])\n",
        "        \n",
        "        if(pbest_fitness_value[i] > fitness_cadidate):\n",
        "            pbest_fitness_value[i] = fitness_cadidate\n",
        "            pbest_position[i] = particle_position_vector[i]\n",
        "\n",
        "        if(gbest_fitness_value > fitness_cadidate):\n",
        "            gbest_fitness_value = fitness_cadidate\n",
        "            gbest_position = particle_position_vector[i]\n",
        "\n",
        "    if(abs(gbest_fitness_value - target) < target_error):\n",
        "        break\n",
        "    \n",
        "    for i in range(n_particles):\n",
        "        posicoes.append(particle_position_vector)\n",
        "        new_velocity = (W*velocity_vector[i]) + (c1*random.random()) * (pbest_position[i] - particle_position_vector[i]) + (c2*random.random()) * (gbest_position-particle_position_vector[i])\n",
        "        new_position = new_velocity + particle_position_vector[i]\n",
        "        particle_position_vector[i] = new_position\n",
        "    \n",
        "    iteration = iteration + 1\n",
        "fim = time.time()\n",
        "\n",
        "print(gbest_fitness_value,\"The best position is \", gbest_position, \"in iteration number \", iteration)\n",
        "print(\"Tempo:\",(fim-inicio))"
      ],
      "execution_count": 7,
      "outputs": [
        {
          "output_type": "stream",
          "text": [
            "Inform the number of iterations: 10\n",
            "Inform the target error: 0.1\n",
            "Inform the number of particles: 10\n",
            "[[ 6.67187059  9.71839536]\n",
            " [ 4.4568814   3.30414146]\n",
            " [ 9.05439039  7.18506346]\n",
            " [ 7.49295354  6.36706983]\n",
            " [ 2.13529997  2.1483727 ]\n",
            " [ 9.07028509  3.33439001]\n",
            " [ 2.97325562  2.72447316]\n",
            " [ 9.30853367 10.28707614]\n",
            " [ 2.46059687  3.57236699]\n",
            " [ 7.32950984  8.68731095]]\n",
            "1.4298953916952513   [6.67187059 9.71839536]\n",
            "1.421957671957672   [4.4568814  3.30414146]\n",
            "1.340895341802783   [9.05439039 7.18506346]\n",
            "1.4320017228383763   [7.49295354 6.36706983]\n",
            "1.600217601547389   [2.13529997 2.1483727 ]\n",
            "1.482953779814041   [9.07028509 3.33439001]\n",
            "1.633990147783251   [2.97325562 2.72447316]\n",
            "1.4502333658960165   [ 9.30853367 10.28707614]\n",
            "1.5791423543576923   [2.46059687 3.57236699]\n",
            "1.3601263601263602   [7.32950984 8.68731095]\n",
            "1.4298953916952513   [6.99477826 9.37504783]\n",
            "1.3848487367021276   [8.68752811 6.87538188]\n",
            "1.441081081081081   [9.05439039 7.18506346]\n",
            "1.3704169285564634   [8.63038779 6.96294022]\n",
            "1.4110461693717937   [7.72785086 6.21942073]\n",
            "1.4320017228383763   [9.05477022 7.09304473]\n",
            "1.4841915085817523   [4.70192107 3.99247143]\n",
            "1.3744624206430476   [9.14668533 8.31159374]\n",
            "1.4640883977900552   [5.31634494 5.13701274]\n",
            "1.4629120879120878   [7.51761146 8.5234879 ]\n",
            "1.3771614057720718   [8.92730114 7.32019739]\n",
            "1.417169786735004   [8.93740808 7.08631451]\n",
            "1.4251019169051955   [9.05439039 7.18506346]\n",
            "1.427255985267035   [8.69471582 6.9966399 ]\n",
            "1.3916408668730649   [8.95021865 7.10923257]\n",
            "1.4443956043956045   [9.05471824 7.10563728]\n",
            "1.4759233709542443   [5.54061494 4.60766413]\n",
            "1.3944636678200693   [9.11891593 7.97264696]\n",
            "1.4841915085817523   [5.53757922 5.25822556]\n",
            "1.399375134669252   [7.52318857 8.51863064]\n",
            "1.4061965080451904   [9.03413197 7.20660423]\n",
            "1.4389304812834225   [9.0529012  7.18380639]\n",
            "1.3973785166240407   [9.05439039 7.18506346]\n",
            "1.4687602582339423   [8.82888974 7.0669299 ]\n",
            "1.446666666666667   [9.02477306 7.16350379]\n",
            "1.3753525621229905   [9.05446904 7.1660084 ]\n",
            "1.4629120879120878   [6.22083422 5.10661369]\n",
            "1.3583992155420728   [9.11876157 7.97076288]\n",
            "1.4120394834182326   [8.82446266 7.05908756]\n",
            "1.4229944229944234   [7.57271548 8.47549624]\n",
            "1.4699216687202958   [9.05136391 7.18828151]\n",
            "1.405192594168972   [9.05354621 7.18435086]\n",
            "1.37270995460441   [9.05439039 7.18506346]\n",
            "1.3483689085783326   [9.00782258 7.16066788]\n",
            "1.368610869294864   [9.04392282 7.17744369]\n",
            "1.3252660591063632   [9.05444228 7.17249038]\n",
            "1.4605978260869565   [7.3307586  5.92075745]\n",
            "1.3935127242386316   [9.10907003 7.85247029]\n",
            "1.3508592471358427   [8.91650871 7.10951899]\n",
            "1.4288590319572771   [8.85890716 7.35531536]\n",
            "1.4082374318594792   [9.05339544 7.17786038]\n",
            "1.4022449321494388   [9.05433971 7.17384804]\n",
            "1.3583992155420728   [9.05439562 7.18379598]\n",
            "1.4605978260869565   [9.03001061 7.16629464]\n",
            "1.3973785166240407   [9.04904023 7.17503405]\n",
            "1.3973785166240407   [9.05444228 7.17249038]\n",
            "1.3780804150453956   [8.49444194 6.76582013]\n",
            "1.3744624206430476   [9.08566632 7.56115213]\n",
            "1.4309428950863214   [8.95591981 7.12751151]\n",
            "1.48544306672117   [8.9458125  7.27405903]\n",
            "1.4421739130434783   [9.05434154 7.17300716]\n",
            "1.5118341177273036   [9.05441724 7.17282186]\n",
            "1.40721139365776   [9.05440737 7.18094999]\n",
            "1.4455248618784529   [9.04328632 7.16966128]\n",
            "1.4209320091673037   [9.05244248 7.17343203]\n",
            "1.3491902834008096   [9.05444228 7.17249038]\n",
            "1.40721139365776   [8.71478694 6.92583388]\n",
            "1.4664804469273742   [9.07846597 7.47152562]\n",
            "1.4502333658960165   [9.01362184 7.15385445]\n",
            "1.4491298527443104   [8.95132653 7.26890342]\n",
            "1.4032169775569499   [9.05439651 7.17272518]\n",
            "1.3508592471358427   [9.05441933 7.17279425]\n",
            "1.4963311167163498   [9.05442378 7.17697444]\n",
            "1.38671875   [9.05338781 7.17222297]\n",
            "1.361003861003861   [9.05324211 7.1730555 ]\n",
            "1.4887976929902396   [9.05444228 7.17249038]\n",
            "1.3762521731931452   [8.94061026 7.08982597]\n",
            "1.3790093595541066   [9.07517911 7.43061237]\n",
            "1.4229944229944234   [9.03133138 7.16193946]\n",
            "1.4229944229944234   [9.02258451 7.20227734]\n",
            "1.44   [9.05441295 7.17264085]\n",
            "1.4432786885245903   [9.05443927 7.17253025]\n",
            "1.4229944229944234   [9.05443274 7.17480169]\n",
            "1.4536166644600377   [9.05421017 7.17243151]\n",
            "1.5118341177273036   [9.05382205 7.17278243]\n",
            "1.4771641723149707   [9.05444228 7.17249038]\n",
            "1.4229944229944234   [8.94787491 7.09510153]\n",
            "1.3753525621229905   [9.0644708  7.29732044]\n",
            "1.448988764044944   [9.04706326 7.1691216 ]\n",
            "1.4032169775569499   [9.02323128 7.20167261]\n",
            "1.3935127242386316   [9.05442634 7.17257219]\n",
            "1.4320017228383763   [9.05443958 7.17252618]\n",
            "1.4309428950863214   [9.05444184 7.1725991 ]\n",
            "1.4294581892347258   [9.05424768 7.17244102]\n",
            "1.4161212985161664   [9.05388595 7.17275234]\n",
            "1.4352480189133572   [9.05444228 7.17249038]\n",
            "1.4421739130434783   [8.96488337 7.10745301]\n",
            "1.3944636678200693   [9.05539713 7.18437582]\n",
            "1.4374723328906598   [9.05244483 7.17157847]\n",
            "1.482953779814041   [9.05305626 7.17378631]\n",
            "1.3252660591063632 The best position is  [9.05444228 7.17249038] in iteration number  10\n",
            "Tempo: 443.3262722492218\n"
          ],
          "name": "stdout"
        }
      ]
    },
    {
      "cell_type": "code",
      "metadata": {
        "id": "zragXR4KzHni",
        "colab_type": "code",
        "colab": {
          "base_uri": "https://localhost:8080/",
          "height": 349
        },
        "outputId": "f4d827f7-0feb-4eb8-cfc6-8ed7fc224cd4"
      },
      "source": [
        "import numpy as np\n",
        "import matplotlib.pyplot as plt\n",
        "\n",
        "N = 500\n",
        "x = np.random.rand(N)\n",
        "y = np.random.rand(N)\n",
        "colors = (0,0,0)\n",
        "area = np.pi*3\n",
        "\n",
        "# Plot\n",
        "plt.scatter(x, y, c=colors, alpha=0.5)\n",
        "plt.title('Scatter plot pythonspot.com')\n",
        "plt.xlabel('x')\n",
        "plt.ylabel('y')\n",
        "plt.show()\n",
        "#marcar tempo\n",
        "\n",
        "\n",
        "\n",
        "\n",
        "fim = time.time()\n",
        "print(fim - inicio)"
      ],
      "execution_count": 9,
      "outputs": [
        {
          "output_type": "stream",
          "text": [
            "'c' argument looks like a single numeric RGB or RGBA sequence, which should be avoided as value-mapping will have precedence in case its length matches with 'x' & 'y'.  Please use a 2-D array with a single row if you really want to specify the same RGB or RGBA value for all points.\n"
          ],
          "name": "stderr"
        },
        {
          "output_type": "display_data",
          "data": {
            "image/png": "[encoded data removed]",
            "text/plain": [
              "<Figure size 432x288 with 1 Axes>"
            ]
          },
          "metadata": {
            "tags": []
          }
        },
        {
          "output_type": "stream",
          "text": [
            "1292.0892853736877\n"
          ],
          "name": "stdout"
        }
      ]
    },
    {
      "cell_type": "markdown",
      "metadata": {
        "id": "fTU0pPfOuud2",
        "colab_type": "text"
      },
      "source": [
        "**Genetic algorithm**"
      ]
    },
    {
      "cell_type": "code",
      "metadata": {
        "id": "OFd6vH7R9mLz",
        "colab_type": "code",
        "colab": {}
      },
      "source": [
        "import numpy\n",
        "\n",
        "def cal_pop_fitness(equation_inputs, pop):\n",
        "    # Calculating the fitness value of each solution in the current population.\n",
        "    # The fitness function caulcuates the sum of products between each input and its corresponding weight.\n",
        "    fitness = numpy.sum(pop*equation_inputs, axis=1)\n",
        "    return fitness\n",
        "\n",
        "def select_mating_pool(pop, fitness, num_parents):\n",
        "    # Selecting the best individuals in the current generation as parents for producing the offspring of the next generation.\n",
        "    parents = numpy.empty((num_parents, pop.shape[1]))\n",
        "    for parent_num in range(num_parents):\n",
        "        max_fitness_idx = numpy.where(fitness == numpy.max(fitness))\n",
        "        max_fitness_idx = max_fitness_idx[0][0]\n",
        "        parents[parent_num, :] = pop[max_fitness_idx, :]\n",
        "        fitness[max_fitness_idx] = -99999999999\n",
        "    return parents\n",
        "\n",
        "def crossover(parents, offspring_size):\n",
        "    offspring = numpy.empty(offspring_size)\n",
        "    # The point at which crossover takes place between two parents. Usually it is at the center.\n",
        "    crossover_point = numpy.uint8(offspring_size[1]/2)\n",
        "\n",
        "    for k in range(offspring_size[0]):\n",
        "        # Index of the first parent to mate.\n",
        "        parent1_idx = k%parents.shape[0]\n",
        "        # Index of the second parent to mate.\n",
        "        parent2_idx = (k+1)%parents.shape[0]\n",
        "        # The new offspring will have its first half of its genes taken from the first parent.\n",
        "        offspring[k, 0:crossover_point] = parents[parent1_idx, 0:crossover_point]\n",
        "        # The new offspring will have its second half of its genes taken from the second parent.\n",
        "        offspring[k, crossover_point:] = parents[parent2_idx, crossover_point:]\n",
        "    return offspring\n",
        "\n",
        "def mutation(offspring_crossover):\n",
        "    # Mutation changes a single gene in each offspring randomly.\n",
        "    for idx in range(offspring_crossover.shape[0]):\n",
        "        # The random value to be added to the gene.\n",
        "        random_value = numpy.random.uniform(-1.0, 1.0, 1)\n",
        "        offspring_crossover[idx, 4] = offspring_crossover[idx, 4] + random_value\n",
        "    return offspring_crossover"
      ],
      "execution_count": 0,
      "outputs": []
    },
    {
      "cell_type": "code",
      "metadata": {
        "id": "8sErBocE9F2i",
        "colab_type": "code",
        "colab": {
          "base_uri": "https://localhost:8080/",
          "height": 578
        },
        "outputId": "e0e69d86-6288-4732-f412-3d4f7a13c0fe"
      },
      "source": [
        "import numpy\n",
        "\n",
        "\n",
        "\"\"\"\n",
        "The y=target is to maximize this equation ASAP:\n",
        "    y = w1x1+w2x2+w3x3+w4x4+w5x5+6wx6\n",
        "    where (x1,x2,x3,x4,x5,x6)=(4,-2,3.5,5,-11,-4.7)\n",
        "    What are the best values for the 6 weights w1 to w6?\n",
        "    We are going to use the genetic algorithm for the best possible values after a number of generations.\n",
        "\"\"\"\n",
        "\n",
        "# Inputs of the equation.\n",
        "equation_inputs = [4,-2,3.5,5,-11,-4.7]\n",
        "\n",
        "# Number of the weights we are looking to optimize.\n",
        "num_weights = 6\n",
        "\n",
        "\"\"\"\n",
        "Genetic algorithm parameters:\n",
        "    Mating pool size\n",
        "    Population size\n",
        "\"\"\"\n",
        "sol_per_pop = 10\n",
        "num_parents_mating = 5\n",
        "\n",
        "# Defining the population size.\n",
        "pop_size = (sol_per_pop,num_weights) # The population will have sol_per_pop chromosome where each chromosome has num_weights genes.\n",
        "#Creating the initial population.\n",
        "new_population = numpy.random.uniform(low=-4.0, high=4.0, size=pop_size)\n",
        "print(new_population)\n",
        "\n",
        "num_generations = 10\n",
        "for generation in range(num_generations):\n",
        "    print(\"Generation : \", generation)\n",
        "    # Measing the fitness of each chromosome in the population.\n",
        "    fitness = cal_pop_fitness(equation_inputs, new_population)\n",
        "\n",
        "    # Selecting the best parents in the population for mating.\n",
        "    parents = select_mating_pool(new_population, fitness, \n",
        "                                      num_parents_mating)\n",
        "\n",
        "    # Generating next generation using crossover.\n",
        "    offspring_crossover = crossover(parents,\n",
        "                                       offspring_size=(pop_size[0]-parents.shape[0], num_weights))\n",
        "\n",
        "    # Adding some variations to the offsrping using mutation.\n",
        "    offspring_mutation = mutation(offspring_crossover)\n",
        "\n",
        "    # Creating the new population based on the parents and offspring.\n",
        "    new_population[0:parents.shape[0], :] = parents\n",
        "    new_population[parents.shape[0]:, :] = offspring_mutation\n",
        "\n",
        "    # The best result in the current iteration.\n",
        "    print(\"Best result : \", numpy.max(numpy.sum(new_population*equation_inputs, axis=1)))\n",
        "\n",
        "# Getting the best solution after iterating finishing all generations.\n",
        "#At first, the fitness is calculated for each solution in the final generation.\n",
        "fitness = cal_pop_fitness(equation_inputs, new_population)\n",
        "# Then return the index of that solution corresponding to the best fitness.\n",
        "best_match_idx = numpy.where(fitness == numpy.max(fitness))\n",
        "\n",
        "print(\"Best solution : \", new_population[best_match_idx, :])\n",
        "print(\"Best solution fitness : \", fitness[best_match_idx])"
      ],
      "execution_count": 14,
      "outputs": [
        {
          "output_type": "stream",
          "text": [
            "[[ 2.82599059  3.06970239  1.23367762 -1.07382377  2.23920775 -3.83535228]\n",
            " [-1.12791535 -2.14151858  2.61760196 -3.09887436  1.03480624  0.47549123]\n",
            " [-2.54890338 -3.9810585   0.48354559  0.18876164  0.28258762 -1.12731208]\n",
            " [-0.06692974  3.98495951  3.7586644  -0.63565477  2.83663455  2.75303624]\n",
            " [ 1.2387704   0.13119775 -3.13519415 -0.7180101   2.82864705  3.12863523]\n",
            " [-2.61151418  2.92766666  2.40644419 -1.28864814 -0.1473464  -0.07174476]\n",
            " [ 0.11861611 -3.30656472 -2.90736417  3.56734688 -2.30921412  2.24114752]\n",
            " [-2.3578122  -2.09463416 -3.66730135  0.28755122  0.07537553  2.07471744]\n",
            " [ 3.91096786 -0.87263003  2.76913199 -1.66277529  0.89553653  3.86745186]\n",
            " [-0.90734436 -3.32970014  0.28176067  3.06486252 -2.4489591  -2.28990227]]\n",
            "Generation :  0\n",
            "Best result :  80.73555574452216\n",
            "Generation :  1\n",
            "Best result :  80.73555574452216\n",
            "Generation :  2\n",
            "Best result :  80.73555574452216\n",
            "Generation :  3\n",
            "Best result :  82.4211116036832\n",
            "Generation :  4\n",
            "Best result :  82.4211116036832\n",
            "Generation :  5\n",
            "Best result :  82.4211116036832\n",
            "Generation :  6\n",
            "Best result :  90.7092186251983\n",
            "Generation :  7\n",
            "Best result :  92.876358473819\n",
            "Generation :  8\n",
            "Best result :  92.876358473819\n",
            "Generation :  9\n",
            "Best result :  97.93250678617666\n",
            "Best solution :  [[[ 3.91096786 -0.87263003  2.76913199  3.06486252 -4.06950546\n",
            "   -2.28990227]]]\n",
            "Best solution fitness :  [97.93250679]\n"
          ],
          "name": "stdout"
        }
      ]
    }
  ]
}